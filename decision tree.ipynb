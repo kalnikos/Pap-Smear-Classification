{
 "cells": [
  {
   "cell_type": "code",
   "execution_count": 1,
   "metadata": {},
   "outputs": [],
   "source": [
    "import pandas as pd\n",
    "import numpy as np"
   ]
  },
  {
   "cell_type": "code",
   "execution_count": 2,
   "metadata": {},
   "outputs": [
    {
     "data": {
      "text/html": [
       "<div>\n",
       "<style scoped>\n",
       "    .dataframe tbody tr th:only-of-type {\n",
       "        vertical-align: middle;\n",
       "    }\n",
       "\n",
       "    .dataframe tbody tr th {\n",
       "        vertical-align: top;\n",
       "    }\n",
       "\n",
       "    .dataframe thead th {\n",
       "        text-align: right;\n",
       "    }\n",
       "</style>\n",
       "<table border=\"1\" class=\"dataframe\">\n",
       "  <thead>\n",
       "    <tr style=\"text-align: right;\">\n",
       "      <th></th>\n",
       "      <th>Unnamed: 0</th>\n",
       "      <th>Cyto_A</th>\n",
       "      <th>CytoShort</th>\n",
       "      <th>KerneShort</th>\n",
       "      <th>CytoLong</th>\n",
       "      <th>KerneLong</th>\n",
       "      <th>CytoRund</th>\n",
       "      <th>K/C</th>\n",
       "      <th>Kerne_Ycol</th>\n",
       "      <th>CytoPeri</th>\n",
       "      <th>Cyto_Ycol</th>\n",
       "      <th>Kerne_A</th>\n",
       "      <th>KernePeri</th>\n",
       "      <th>KerneMax</th>\n",
       "      <th>KerneMin</th>\n",
       "      <th>target</th>\n",
       "    </tr>\n",
       "  </thead>\n",
       "  <tbody>\n",
       "    <tr>\n",
       "      <th>0</th>\n",
       "      <td>0</td>\n",
       "      <td>606.96</td>\n",
       "      <td>22.12</td>\n",
       "      <td>10.90</td>\n",
       "      <td>42.11</td>\n",
       "      <td>15.03</td>\n",
       "      <td>0.4358</td>\n",
       "      <td>0.167350</td>\n",
       "      <td>0.60</td>\n",
       "      <td>226.30</td>\n",
       "      <td>0.75</td>\n",
       "      <td>121.99</td>\n",
       "      <td>61.88</td>\n",
       "      <td>53</td>\n",
       "      <td>37</td>\n",
       "      <td>0</td>\n",
       "    </tr>\n",
       "    <tr>\n",
       "      <th>1</th>\n",
       "      <td>1</td>\n",
       "      <td>440.56</td>\n",
       "      <td>18.29</td>\n",
       "      <td>8.96</td>\n",
       "      <td>35.82</td>\n",
       "      <td>13.36</td>\n",
       "      <td>0.4372</td>\n",
       "      <td>0.166774</td>\n",
       "      <td>0.52</td>\n",
       "      <td>190.69</td>\n",
       "      <td>0.75</td>\n",
       "      <td>88.18</td>\n",
       "      <td>48.49</td>\n",
       "      <td>43</td>\n",
       "      <td>24</td>\n",
       "      <td>0</td>\n",
       "    </tr>\n",
       "    <tr>\n",
       "      <th>2</th>\n",
       "      <td>2</td>\n",
       "      <td>234.47</td>\n",
       "      <td>12.82</td>\n",
       "      <td>7.20</td>\n",
       "      <td>37.63</td>\n",
       "      <td>15.44</td>\n",
       "      <td>0.2108</td>\n",
       "      <td>0.228844</td>\n",
       "      <td>0.57</td>\n",
       "      <td>156.50</td>\n",
       "      <td>0.77</td>\n",
       "      <td>69.58</td>\n",
       "      <td>63.94</td>\n",
       "      <td>34</td>\n",
       "      <td>19</td>\n",
       "      <td>0</td>\n",
       "    </tr>\n",
       "    <tr>\n",
       "      <th>3</th>\n",
       "      <td>3</td>\n",
       "      <td>366.92</td>\n",
       "      <td>15.17</td>\n",
       "      <td>6.99</td>\n",
       "      <td>37.26</td>\n",
       "      <td>12.62</td>\n",
       "      <td>0.3365</td>\n",
       "      <td>0.088941</td>\n",
       "      <td>0.54</td>\n",
       "      <td>171.47</td>\n",
       "      <td>0.76</td>\n",
       "      <td>35.82</td>\n",
       "      <td>69.66</td>\n",
       "      <td>19</td>\n",
       "      <td>11</td>\n",
       "      <td>0</td>\n",
       "    </tr>\n",
       "    <tr>\n",
       "      <th>4</th>\n",
       "      <td>4</td>\n",
       "      <td>277.87</td>\n",
       "      <td>12.57</td>\n",
       "      <td>7.19</td>\n",
       "      <td>35.48</td>\n",
       "      <td>11.53</td>\n",
       "      <td>0.2811</td>\n",
       "      <td>0.142615</td>\n",
       "      <td>0.54</td>\n",
       "      <td>147.28</td>\n",
       "      <td>0.73</td>\n",
       "      <td>46.22</td>\n",
       "      <td>65.29</td>\n",
       "      <td>20</td>\n",
       "      <td>9</td>\n",
       "      <td>0</td>\n",
       "    </tr>\n",
       "    <tr>\n",
       "      <th>...</th>\n",
       "      <td>...</td>\n",
       "      <td>...</td>\n",
       "      <td>...</td>\n",
       "      <td>...</td>\n",
       "      <td>...</td>\n",
       "      <td>...</td>\n",
       "      <td>...</td>\n",
       "      <td>...</td>\n",
       "      <td>...</td>\n",
       "      <td>...</td>\n",
       "      <td>...</td>\n",
       "      <td>...</td>\n",
       "      <td>...</td>\n",
       "      <td>...</td>\n",
       "      <td>...</td>\n",
       "      <td>...</td>\n",
       "    </tr>\n",
       "    <tr>\n",
       "      <th>495</th>\n",
       "      <td>495</td>\n",
       "      <td>201.65</td>\n",
       "      <td>16.49</td>\n",
       "      <td>11.37</td>\n",
       "      <td>39.50</td>\n",
       "      <td>21.08</td>\n",
       "      <td>0.1646</td>\n",
       "      <td>0.468825</td>\n",
       "      <td>0.61</td>\n",
       "      <td>155.62</td>\n",
       "      <td>0.88</td>\n",
       "      <td>177.98</td>\n",
       "      <td>66.47</td>\n",
       "      <td>50</td>\n",
       "      <td>36</td>\n",
       "      <td>1</td>\n",
       "    </tr>\n",
       "    <tr>\n",
       "      <th>496</th>\n",
       "      <td>496</td>\n",
       "      <td>63.56</td>\n",
       "      <td>18.24</td>\n",
       "      <td>16.56</td>\n",
       "      <td>33.07</td>\n",
       "      <td>25.80</td>\n",
       "      <td>0.0740</td>\n",
       "      <td>0.835050</td>\n",
       "      <td>0.63</td>\n",
       "      <td>114.71</td>\n",
       "      <td>0.84</td>\n",
       "      <td>321.77</td>\n",
       "      <td>81.22</td>\n",
       "      <td>86</td>\n",
       "      <td>60</td>\n",
       "      <td>1</td>\n",
       "    </tr>\n",
       "    <tr>\n",
       "      <th>497</th>\n",
       "      <td>497</td>\n",
       "      <td>220.81</td>\n",
       "      <td>17.68</td>\n",
       "      <td>9.89</td>\n",
       "      <td>39.39</td>\n",
       "      <td>23.22</td>\n",
       "      <td>0.1812</td>\n",
       "      <td>0.424044</td>\n",
       "      <td>0.53</td>\n",
       "      <td>182.46</td>\n",
       "      <td>0.76</td>\n",
       "      <td>162.57</td>\n",
       "      <td>84.71</td>\n",
       "      <td>63</td>\n",
       "      <td>50</td>\n",
       "      <td>1</td>\n",
       "    </tr>\n",
       "    <tr>\n",
       "      <th>498</th>\n",
       "      <td>498</td>\n",
       "      <td>430.36</td>\n",
       "      <td>32.93</td>\n",
       "      <td>16.86</td>\n",
       "      <td>38.95</td>\n",
       "      <td>21.71</td>\n",
       "      <td>0.3612</td>\n",
       "      <td>0.391322</td>\n",
       "      <td>0.49</td>\n",
       "      <td>232.68</td>\n",
       "      <td>0.82</td>\n",
       "      <td>276.68</td>\n",
       "      <td>74.46</td>\n",
       "      <td>76</td>\n",
       "      <td>55</td>\n",
       "      <td>1</td>\n",
       "    </tr>\n",
       "    <tr>\n",
       "      <th>499</th>\n",
       "      <td>499</td>\n",
       "      <td>227.01</td>\n",
       "      <td>22.38</td>\n",
       "      <td>12.46</td>\n",
       "      <td>31.58</td>\n",
       "      <td>16.97</td>\n",
       "      <td>0.2898</td>\n",
       "      <td>0.397036</td>\n",
       "      <td>0.52</td>\n",
       "      <td>156.57</td>\n",
       "      <td>0.76</td>\n",
       "      <td>149.48</td>\n",
       "      <td>69.24</td>\n",
       "      <td>66</td>\n",
       "      <td>41</td>\n",
       "      <td>1</td>\n",
       "    </tr>\n",
       "  </tbody>\n",
       "</table>\n",
       "<p>500 rows × 16 columns</p>\n",
       "</div>"
      ],
      "text/plain": [
       "     Unnamed: 0  Cyto_A  CytoShort  KerneShort  CytoLong  KerneLong  CytoRund  \\\n",
       "0             0  606.96      22.12       10.90     42.11      15.03    0.4358   \n",
       "1             1  440.56      18.29        8.96     35.82      13.36    0.4372   \n",
       "2             2  234.47      12.82        7.20     37.63      15.44    0.2108   \n",
       "3             3  366.92      15.17        6.99     37.26      12.62    0.3365   \n",
       "4             4  277.87      12.57        7.19     35.48      11.53    0.2811   \n",
       "..          ...     ...        ...         ...       ...        ...       ...   \n",
       "495         495  201.65      16.49       11.37     39.50      21.08    0.1646   \n",
       "496         496   63.56      18.24       16.56     33.07      25.80    0.0740   \n",
       "497         497  220.81      17.68        9.89     39.39      23.22    0.1812   \n",
       "498         498  430.36      32.93       16.86     38.95      21.71    0.3612   \n",
       "499         499  227.01      22.38       12.46     31.58      16.97    0.2898   \n",
       "\n",
       "          K/C  Kerne_Ycol  CytoPeri  Cyto_Ycol  Kerne_A  KernePeri  KerneMax  \\\n",
       "0    0.167350        0.60    226.30       0.75   121.99      61.88        53   \n",
       "1    0.166774        0.52    190.69       0.75    88.18      48.49        43   \n",
       "2    0.228844        0.57    156.50       0.77    69.58      63.94        34   \n",
       "3    0.088941        0.54    171.47       0.76    35.82      69.66        19   \n",
       "4    0.142615        0.54    147.28       0.73    46.22      65.29        20   \n",
       "..        ...         ...       ...        ...      ...        ...       ...   \n",
       "495  0.468825        0.61    155.62       0.88   177.98      66.47        50   \n",
       "496  0.835050        0.63    114.71       0.84   321.77      81.22        86   \n",
       "497  0.424044        0.53    182.46       0.76   162.57      84.71        63   \n",
       "498  0.391322        0.49    232.68       0.82   276.68      74.46        76   \n",
       "499  0.397036        0.52    156.57       0.76   149.48      69.24        66   \n",
       "\n",
       "     KerneMin  target  \n",
       "0          37       0  \n",
       "1          24       0  \n",
       "2          19       0  \n",
       "3          11       0  \n",
       "4           9       0  \n",
       "..        ...     ...  \n",
       "495        36       1  \n",
       "496        60       1  \n",
       "497        50       1  \n",
       "498        55       1  \n",
       "499        41       1  \n",
       "\n",
       "[500 rows x 16 columns]"
      ]
     },
     "execution_count": 2,
     "metadata": {},
     "output_type": "execute_result"
    }
   ],
   "source": [
    "df = pd.read_csv(\"pap_smear_old.csv\")\n",
    "df"
   ]
  },
  {
   "cell_type": "code",
   "execution_count": 3,
   "metadata": {},
   "outputs": [
    {
     "data": {
      "text/plain": [
       "Index(['Unnamed: 0', 'Cyto_A', 'CytoShort', 'KerneShort', 'CytoLong',\n",
       "       'KerneLong', 'CytoRund', 'K/C', 'Kerne_Ycol', 'CytoPeri', 'Cyto_Ycol',\n",
       "       'Kerne_A', 'KernePeri', 'KerneMax', 'KerneMin', 'target'],\n",
       "      dtype='object')"
      ]
     },
     "execution_count": 3,
     "metadata": {},
     "output_type": "execute_result"
    }
   ],
   "source": [
    "df.columns"
   ]
  },
  {
   "cell_type": "code",
   "execution_count": 4,
   "metadata": {},
   "outputs": [
    {
     "data": {
      "text/plain": [
       "(500, 16)"
      ]
     },
     "execution_count": 4,
     "metadata": {},
     "output_type": "execute_result"
    }
   ],
   "source": [
    "df.shape"
   ]
  },
  {
   "cell_type": "markdown",
   "metadata": {},
   "source": [
    "## Let's start train some models"
   ]
  },
  {
   "cell_type": "code",
   "execution_count": 5,
   "metadata": {},
   "outputs": [
    {
     "name": "stdout",
     "output_type": "stream",
     "text": [
      "(500, 14)\n",
      "(500,)\n"
     ]
    }
   ],
   "source": [
    "## SVM\n",
    "X = df.drop(columns=[\"target\",\"Unnamed: 0\"])\n",
    "Y = df.target\n",
    "print(X.shape)\n",
    "print(Y.shape)"
   ]
  },
  {
   "cell_type": "code",
   "execution_count": 6,
   "metadata": {},
   "outputs": [],
   "source": [
    "# Split dataset into training set and test set\n",
    "from sklearn.model_selection import train_test_split\n",
    "X_train, X_test, y_train, y_test = train_test_split( X, Y, test_size=0.2, random_state=4)"
   ]
  },
  {
   "cell_type": "code",
   "execution_count": 7,
   "metadata": {},
   "outputs": [],
   "source": [
    "from sklearn.preprocessing import Normalizer\n",
    "from sklearn.svm import SVC\n",
    "from sklearn.pipeline import Pipeline"
   ]
  },
  {
   "cell_type": "code",
   "execution_count": 8,
   "metadata": {},
   "outputs": [],
   "source": [
    "pipeline_svm=Pipeline([('scalar1',Normalizer()),\n",
    "                     ('SVM',SVC(kernel='linear', C=100, gamma=\"auto\"))])"
   ]
  },
  {
   "cell_type": "code",
   "execution_count": 10,
   "metadata": {},
   "outputs": [
    {
     "data": {
      "text/plain": [
       "Pipeline(memory=None,\n",
       "         steps=[('scalar1', Normalizer(copy=True, norm='l2')),\n",
       "                ('SVM',\n",
       "                 SVC(C=100, break_ties=False, cache_size=200, class_weight=None,\n",
       "                     coef0=0.0, decision_function_shape='ovr', degree=3,\n",
       "                     gamma='auto', kernel='linear', max_iter=-1,\n",
       "                     probability=False, random_state=None, shrinking=True,\n",
       "                     tol=0.001, verbose=False))],\n",
       "         verbose=False)"
      ]
     },
     "execution_count": 10,
     "metadata": {},
     "output_type": "execute_result"
    }
   ],
   "source": [
    "pipeline_svm.fit(X_train, y_train)"
   ]
  },
  {
   "cell_type": "code",
   "execution_count": 11,
   "metadata": {},
   "outputs": [],
   "source": [
    "## Prediction\n",
    "y_pred = pipeline_svm.predict(X_train)"
   ]
  },
  {
   "cell_type": "code",
   "execution_count": 12,
   "metadata": {},
   "outputs": [
    {
     "name": "stdout",
     "output_type": "stream",
     "text": [
      "Accuracy: 0.88\n"
     ]
    }
   ],
   "source": [
    "## Evaluation \n",
    "from sklearn import metrics\n",
    "\n",
    "# Model Accuracy: how often is the classifier correct?\n",
    "print(\"Accuracy:\",metrics.accuracy_score(y_train, y_pred))"
   ]
  },
  {
   "cell_type": "code",
   "execution_count": 13,
   "metadata": {},
   "outputs": [
    {
     "data": {
      "text/plain": [
       "array([0.9  , 0.9  , 0.875, 0.925, 0.875, 0.95 , 0.825, 0.825, 0.8  ,\n",
       "       0.875])"
      ]
     },
     "execution_count": 13,
     "metadata": {},
     "output_type": "execute_result"
    }
   ],
   "source": [
    "from sklearn.model_selection import cross_val_score\n",
    "scores = cross_val_score(pipeline_svm, X_train, y_train, cv=10, scoring=\"accuracy\")\n",
    "scores"
   ]
  },
  {
   "cell_type": "code",
   "execution_count": 14,
   "metadata": {},
   "outputs": [
    {
     "data": {
      "text/plain": [
       "array([0.8490566 , 0.90041494])"
      ]
     },
     "execution_count": 14,
     "metadata": {},
     "output_type": "execute_result"
    }
   ],
   "source": [
    "from sklearn.metrics import f1_score\n",
    "f1_score(y_train, y_pred, average=None)"
   ]
  },
  {
   "cell_type": "code",
   "execution_count": 15,
   "metadata": {},
   "outputs": [],
   "source": [
    "from sklearn.decomposition import PCA\n",
    "pipeline_svm_pca=Pipeline([('scalar1',Normalizer()),('pca1',PCA(n_components=3)),\n",
    "                     ('SVM',SVC(kernel='linear', C=100, gamma=\"auto\"))])"
   ]
  },
  {
   "cell_type": "code",
   "execution_count": 16,
   "metadata": {},
   "outputs": [
    {
     "data": {
      "text/plain": [
       "Pipeline(memory=None,\n",
       "         steps=[('scalar1', Normalizer(copy=True, norm='l2')),\n",
       "                ('pca1',\n",
       "                 PCA(copy=True, iterated_power='auto', n_components=3,\n",
       "                     random_state=None, svd_solver='auto', tol=0.0,\n",
       "                     whiten=False)),\n",
       "                ('SVM',\n",
       "                 SVC(C=100, break_ties=False, cache_size=200, class_weight=None,\n",
       "                     coef0=0.0, decision_function_shape='ovr', degree=3,\n",
       "                     gamma='auto', kernel='linear', max_iter=-1,\n",
       "                     probability=False, random_state=None, shrinking=True,\n",
       "                     tol=0.001, verbose=False))],\n",
       "         verbose=False)"
      ]
     },
     "execution_count": 16,
     "metadata": {},
     "output_type": "execute_result"
    }
   ],
   "source": [
    "pipeline_svm_pca.fit(X_train, y_train)"
   ]
  },
  {
   "cell_type": "code",
   "execution_count": 17,
   "metadata": {},
   "outputs": [],
   "source": [
    "## Prediction\n",
    "y_pred = pipeline_svm_pca.predict(X_train)"
   ]
  },
  {
   "cell_type": "code",
   "execution_count": 18,
   "metadata": {},
   "outputs": [
    {
     "name": "stdout",
     "output_type": "stream",
     "text": [
      "Accuracy: 0.845\n"
     ]
    }
   ],
   "source": [
    "## Evaluation \n",
    "from sklearn import metrics\n",
    "\n",
    "# Model Accuracy: how often is the classifier correct?\n",
    "print(\"Accuracy:\",metrics.accuracy_score(y_train, y_pred))"
   ]
  },
  {
   "cell_type": "code",
   "execution_count": 19,
   "metadata": {},
   "outputs": [
    {
     "data": {
      "text/plain": [
       "array([0.9  , 0.9  , 0.825, 0.85 , 0.85 , 0.95 , 0.825, 0.75 , 0.8  ,\n",
       "       0.8  ])"
      ]
     },
     "execution_count": 19,
     "metadata": {},
     "output_type": "execute_result"
    }
   ],
   "source": [
    "from sklearn.model_selection import cross_val_score\n",
    "scores = cross_val_score(pipeline_svm_pca, X_train, y_train, cv=10, scoring=\"accuracy\")\n",
    "scores"
   ]
  },
  {
   "cell_type": "code",
   "execution_count": 20,
   "metadata": {},
   "outputs": [
    {
     "data": {
      "text/plain": [
       "array([0.80128205, 0.87295082])"
      ]
     },
     "execution_count": 20,
     "metadata": {},
     "output_type": "execute_result"
    }
   ],
   "source": [
    "from sklearn.metrics import f1_score\n",
    "f1_score(y_train, y_pred, average=None)"
   ]
  },
  {
   "cell_type": "code",
   "execution_count": 21,
   "metadata": {},
   "outputs": [
    {
     "data": {
      "text/plain": [
       "<matplotlib.axes._subplots.AxesSubplot at 0x2a58f893b08>"
      ]
     },
     "execution_count": 21,
     "metadata": {},
     "output_type": "execute_result"
    },
    {
     "data": {
      "image/png": "[encoded data removed]",
      "text/plain": [
       "<Figure size 432x288 with 2 Axes>"
      ]
     },
     "metadata": {
      "needs_background": "light"
     },
     "output_type": "display_data"
    }
   ],
   "source": [
    "import seaborn as sns\n",
    "from sklearn.metrics import classification_report, confusion_matrix\n",
    "cf_matrix = confusion_matrix(y_train, y_pred)\n",
    "sns.heatmap(cf_matrix, linewidths=1, annot=True, fmt='g')"
   ]
  },
  {
   "cell_type": "code",
   "execution_count": 22,
   "metadata": {},
   "outputs": [],
   "source": [
    "## Optimaze the model\n",
    "from sklearn.model_selection import RandomizedSearchCV\n",
    "rs = RandomizedSearchCV(SVC(gamma='auto'), {\n",
    "        'C': [1,10,20,100],\n",
    "        'kernel': ['rbf','linear','poly']\n",
    "    }, \n",
    "    cv=5, \n",
    "    return_train_score=False, \n",
    "    n_iter=10\n",
    ") "
   ]
  },
  {
   "cell_type": "code",
   "execution_count": 23,
   "metadata": {},
   "outputs": [
    {
     "data": {
      "text/html": [
       "<div>\n",
       "<style scoped>\n",
       "    .dataframe tbody tr th:only-of-type {\n",
       "        vertical-align: middle;\n",
       "    }\n",
       "\n",
       "    .dataframe tbody tr th {\n",
       "        vertical-align: top;\n",
       "    }\n",
       "\n",
       "    .dataframe thead th {\n",
       "        text-align: right;\n",
       "    }\n",
       "</style>\n",
       "<table border=\"1\" class=\"dataframe\">\n",
       "  <thead>\n",
       "    <tr style=\"text-align: right;\">\n",
       "      <th></th>\n",
       "      <th>param_C</th>\n",
       "      <th>param_kernel</th>\n",
       "      <th>mean_test_score</th>\n",
       "    </tr>\n",
       "  </thead>\n",
       "  <tbody>\n",
       "    <tr>\n",
       "      <th>0</th>\n",
       "      <td>1</td>\n",
       "      <td>poly</td>\n",
       "      <td>0.9125</td>\n",
       "    </tr>\n",
       "    <tr>\n",
       "      <th>1</th>\n",
       "      <td>100</td>\n",
       "      <td>rbf</td>\n",
       "      <td>0.6125</td>\n",
       "    </tr>\n",
       "    <tr>\n",
       "      <th>2</th>\n",
       "      <td>20</td>\n",
       "      <td>poly</td>\n",
       "      <td>0.9125</td>\n",
       "    </tr>\n",
       "    <tr>\n",
       "      <th>3</th>\n",
       "      <td>1</td>\n",
       "      <td>linear</td>\n",
       "      <td>0.9400</td>\n",
       "    </tr>\n",
       "    <tr>\n",
       "      <th>4</th>\n",
       "      <td>100</td>\n",
       "      <td>linear</td>\n",
       "      <td>0.9500</td>\n",
       "    </tr>\n",
       "    <tr>\n",
       "      <th>5</th>\n",
       "      <td>20</td>\n",
       "      <td>rbf</td>\n",
       "      <td>0.6125</td>\n",
       "    </tr>\n",
       "    <tr>\n",
       "      <th>6</th>\n",
       "      <td>10</td>\n",
       "      <td>linear</td>\n",
       "      <td>0.9575</td>\n",
       "    </tr>\n",
       "    <tr>\n",
       "      <th>7</th>\n",
       "      <td>1</td>\n",
       "      <td>rbf</td>\n",
       "      <td>0.6125</td>\n",
       "    </tr>\n",
       "    <tr>\n",
       "      <th>8</th>\n",
       "      <td>20</td>\n",
       "      <td>linear</td>\n",
       "      <td>0.9525</td>\n",
       "    </tr>\n",
       "    <tr>\n",
       "      <th>9</th>\n",
       "      <td>100</td>\n",
       "      <td>poly</td>\n",
       "      <td>0.9125</td>\n",
       "    </tr>\n",
       "  </tbody>\n",
       "</table>\n",
       "</div>"
      ],
      "text/plain": [
       "  param_C param_kernel  mean_test_score\n",
       "0       1         poly           0.9125\n",
       "1     100          rbf           0.6125\n",
       "2      20         poly           0.9125\n",
       "3       1       linear           0.9400\n",
       "4     100       linear           0.9500\n",
       "5      20          rbf           0.6125\n",
       "6      10       linear           0.9575\n",
       "7       1          rbf           0.6125\n",
       "8      20       linear           0.9525\n",
       "9     100         poly           0.9125"
      ]
     },
     "execution_count": 23,
     "metadata": {},
     "output_type": "execute_result"
    }
   ],
   "source": [
    "rs.fit(X_train, y_train)\n",
    "pd.DataFrame(rs.cv_results_)[['param_C','param_kernel','mean_test_score']]"
   ]
  },
  {
   "cell_type": "code",
   "execution_count": 58,
   "metadata": {},
   "outputs": [],
   "source": [
    "pipeline_svm_3=Pipeline([('scalar2',Normalizer()),\n",
    "                     ('SVM3',SVC(kernel='linear', C=10, gamma=\"auto\"))])"
   ]
  },
  {
   "cell_type": "code",
   "execution_count": 59,
   "metadata": {},
   "outputs": [
    {
     "data": {
      "text/plain": [
       "Pipeline(memory=None,\n",
       "         steps=[('scalar2', Normalizer(copy=True, norm='l2')),\n",
       "                ('SVM3',\n",
       "                 SVC(C=10, break_ties=False, cache_size=200, class_weight=None,\n",
       "                     coef0=0.0, decision_function_shape='ovr', degree=3,\n",
       "                     gamma='auto', kernel='linear', max_iter=-1,\n",
       "                     probability=False, random_state=None, shrinking=True,\n",
       "                     tol=0.001, verbose=False))],\n",
       "         verbose=False)"
      ]
     },
     "execution_count": 59,
     "metadata": {},
     "output_type": "execute_result"
    }
   ],
   "source": [
    "pipeline_svm_3.fit(X_train, y_train)"
   ]
  },
  {
   "cell_type": "code",
   "execution_count": 60,
   "metadata": {},
   "outputs": [],
   "source": [
    "y_pred = pipeline_svm_3.predict(X_train)"
   ]
  },
  {
   "cell_type": "code",
   "execution_count": 61,
   "metadata": {},
   "outputs": [
    {
     "name": "stdout",
     "output_type": "stream",
     "text": [
      "Accuracy: 0.8525\n"
     ]
    }
   ],
   "source": [
    "print(\"Accuracy:\",metrics.accuracy_score(y_train, y_pred))"
   ]
  },
  {
   "cell_type": "code",
   "execution_count": 62,
   "metadata": {},
   "outputs": [
    {
     "data": {
      "text/plain": [
       "array([0.9  , 0.925, 0.825, 0.875, 0.85 , 0.925, 0.825, 0.725, 0.8  ,\n",
       "       0.825])"
      ]
     },
     "execution_count": 62,
     "metadata": {},
     "output_type": "execute_result"
    }
   ],
   "source": [
    "scores = cross_val_score(pipeline_svm_3, X_train, y_train, cv=10, scoring=\"accuracy\")\n",
    "scores"
   ]
  },
  {
   "cell_type": "code",
   "execution_count": 122,
   "metadata": {},
   "outputs": [],
   "source": [
    "from sklearn.tree import DecisionTreeClassifier\n",
    "from sklearn import preprocessing"
   ]
  },
  {
   "cell_type": "code",
   "execution_count": 126,
   "metadata": {},
   "outputs": [],
   "source": [
    "X = preprocessing.normalize(X)"
   ]
  },
  {
   "cell_type": "code",
   "execution_count": 127,
   "metadata": {},
   "outputs": [],
   "source": [
    "X_train, X_test, y_train, y_test = train_test_split( X, Y, test_size=0.2, random_state=4)"
   ]
  },
  {
   "cell_type": "code",
   "execution_count": 128,
   "metadata": {},
   "outputs": [
    {
     "data": {
      "text/plain": [
       "DecisionTreeClassifier(ccp_alpha=0.0, class_weight=None, criterion='gini',\n",
       "                       max_depth=None, max_features=None, max_leaf_nodes=None,\n",
       "                       min_impurity_decrease=0.0, min_impurity_split=None,\n",
       "                       min_samples_leaf=1, min_samples_split=2,\n",
       "                       min_weight_fraction_leaf=0.0, presort='deprecated',\n",
       "                       random_state=10, splitter='best')"
      ]
     },
     "execution_count": 128,
     "metadata": {},
     "output_type": "execute_result"
    }
   ],
   "source": [
    "clf = DecisionTreeClassifier(random_state=10)\n",
    "clf.fit(X_train,y_train)"
   ]
  },
  {
   "cell_type": "code",
   "execution_count": 129,
   "metadata": {},
   "outputs": [],
   "source": [
    "y_pred = clf.predict(X_train)"
   ]
  },
  {
   "cell_type": "code",
   "execution_count": 130,
   "metadata": {},
   "outputs": [
    {
     "data": {
      "text/plain": [
       "1.0"
      ]
     },
     "execution_count": 130,
     "metadata": {},
     "output_type": "execute_result"
    }
   ],
   "source": [
    "from sklearn.metrics import accuracy_score\n",
    "accuracy_score(y_train, y_pred)"
   ]
  },
  {
   "cell_type": "code",
   "execution_count": 131,
   "metadata": {},
   "outputs": [
    {
     "data": {
      "text/plain": [
       "[Text(250.90625, 520.95, 'X[0] <= 0.994\\ngini = 0.389\\nsamples = 733\\nvalue = [194, 539]'),\n",
       " Text(238.50625, 475.65000000000003, 'X[8] <= 0.077\\ngini = 0.221\\nsamples = 617\\nvalue = [78, 539]'),\n",
       " Text(55.800000000000004, 430.35, 'X[5] <= 0.0\\ngini = 0.066\\nsamples = 411\\nvalue = [14, 397]'),\n",
       " Text(43.4, 385.05, 'gini = 0.0\\nsamples = 240\\nvalue = [0, 240]'),\n",
       " Text(68.2, 385.05, 'X[10] <= 0.464\\ngini = 0.15\\nsamples = 171\\nvalue = [14, 157]'),\n",
       " Text(55.800000000000004, 339.75, 'X[3] <= 0.021\\ngini = 0.366\\nsamples = 58\\nvalue = [14, 44]'),\n",
       " Text(24.8, 294.45, 'X[0] <= 0.884\\ngini = 0.124\\nsamples = 30\\nvalue = [2, 28]'),\n",
       " Text(12.4, 249.14999999999998, 'gini = 0.0\\nsamples = 1\\nvalue = [1, 0]'),\n",
       " Text(37.2, 249.14999999999998, 'X[5] <= 0.0\\ngini = 0.067\\nsamples = 29\\nvalue = [1, 28]'),\n",
       " Text(24.8, 203.84999999999997, 'X[2] <= 0.005\\ngini = 0.5\\nsamples = 2\\nvalue = [1, 1]'),\n",
       " Text(12.4, 158.55, 'gini = 0.0\\nsamples = 1\\nvalue = [0, 1]'),\n",
       " Text(37.2, 158.55, 'gini = 0.0\\nsamples = 1\\nvalue = [1, 0]'),\n",
       " Text(49.6, 203.84999999999997, 'gini = 0.0\\nsamples = 27\\nvalue = [0, 27]'),\n",
       " Text(86.8, 294.45, 'X[10] <= 0.319\\ngini = 0.49\\nsamples = 28\\nvalue = [12, 16]'),\n",
       " Text(74.4, 249.14999999999998, 'gini = 0.0\\nsamples = 5\\nvalue = [5, 0]'),\n",
       " Text(99.2, 249.14999999999998, 'X[7] <= 0.022\\ngini = 0.423\\nsamples = 23\\nvalue = [7, 16]'),\n",
       " Text(74.4, 203.84999999999997, 'X[1] <= 0.014\\ngini = 0.219\\nsamples = 16\\nvalue = [2, 14]'),\n",
       " Text(62.0, 158.55, 'X[2] <= 0.008\\ngini = 0.444\\nsamples = 3\\nvalue = [2, 1]'),\n",
       " Text(49.6, 113.25, 'gini = 0.0\\nsamples = 1\\nvalue = [0, 1]'),\n",
       " Text(74.4, 113.25, 'gini = 0.0\\nsamples = 2\\nvalue = [2, 0]'),\n",
       " Text(86.8, 158.55, 'gini = 0.0\\nsamples = 13\\nvalue = [0, 13]'),\n",
       " Text(124.0, 203.84999999999997, 'X[13] <= 0.009\\ngini = 0.408\\nsamples = 7\\nvalue = [5, 2]'),\n",
       " Text(111.60000000000001, 158.55, 'gini = 0.0\\nsamples = 2\\nvalue = [0, 2]'),\n",
       " Text(136.4, 158.55, 'gini = 0.0\\nsamples = 5\\nvalue = [5, 0]'),\n",
       " Text(80.60000000000001, 339.75, 'gini = 0.0\\nsamples = 113\\nvalue = [0, 113]'),\n",
       " Text(421.21250000000003, 430.35, 'X[10] <= 0.689\\ngini = 0.428\\nsamples = 206\\nvalue = [64, 142]'),\n",
       " Text(346.425, 385.05, 'X[0] <= 0.906\\ngini = 0.5\\nsamples = 112\\nvalue = [57, 55]'),\n",
       " Text(271.25, 339.75, 'X[7] <= 0.033\\ngini = 0.482\\nsamples = 89\\nvalue = [36, 53]'),\n",
       " Text(220.1, 294.45, 'X[5] <= 0.0\\ngini = 0.32\\nsamples = 60\\nvalue = [12, 48]'),\n",
       " Text(186.0, 249.14999999999998, 'X[2] <= 0.009\\ngini = 0.494\\nsamples = 9\\nvalue = [5, 4]'),\n",
       " Text(173.6, 203.84999999999997, 'X[3] <= 0.03\\ngini = 0.32\\nsamples = 5\\nvalue = [1, 4]'),\n",
       " Text(161.20000000000002, 158.55, 'gini = 0.0\\nsamples = 1\\nvalue = [1, 0]'),\n",
       " Text(186.0, 158.55, 'gini = 0.0\\nsamples = 4\\nvalue = [0, 4]'),\n",
       " Text(198.4, 203.84999999999997, 'gini = 0.0\\nsamples = 4\\nvalue = [4, 0]'),\n",
       " Text(254.20000000000002, 249.14999999999998, 'X[8] <= 0.113\\ngini = 0.237\\nsamples = 51\\nvalue = [7, 44]'),\n",
       " Text(241.8, 203.84999999999997, 'X[13] <= 0.027\\ngini = 0.183\\nsamples = 49\\nvalue = [5, 44]'),\n",
       " Text(210.8, 158.55, 'X[10] <= 0.437\\ngini = 0.122\\nsamples = 46\\nvalue = [3, 43]'),\n",
       " Text(186.0, 113.25, 'X[6] <= 0.0\\ngini = 0.48\\nsamples = 5\\nvalue = [2, 3]'),\n",
       " Text(173.6, 67.94999999999999, 'gini = 0.0\\nsamples = 3\\nvalue = [0, 3]'),\n",
       " Text(198.4, 67.94999999999999, 'gini = 0.0\\nsamples = 2\\nvalue = [2, 0]'),\n",
       " Text(235.6, 113.25, 'X[10] <= 0.672\\ngini = 0.048\\nsamples = 41\\nvalue = [1, 40]'),\n",
       " Text(223.20000000000002, 67.94999999999999, 'gini = 0.0\\nsamples = 39\\nvalue = [0, 39]'),\n",
       " Text(248.0, 67.94999999999999, 'X[0] <= 0.724\\ngini = 0.5\\nsamples = 2\\nvalue = [1, 1]'),\n",
       " Text(235.6, 22.649999999999977, 'gini = 0.0\\nsamples = 1\\nvalue = [0, 1]'),\n",
       " Text(260.40000000000003, 22.649999999999977, 'gini = 0.0\\nsamples = 1\\nvalue = [1, 0]'),\n",
       " Text(272.8, 158.55, 'X[12] <= 0.027\\ngini = 0.444\\nsamples = 3\\nvalue = [2, 1]'),\n",
       " Text(260.40000000000003, 113.25, 'gini = 0.0\\nsamples = 1\\nvalue = [0, 1]'),\n",
       " Text(285.2, 113.25, 'gini = 0.0\\nsamples = 2\\nvalue = [2, 0]'),\n",
       " Text(266.6, 203.84999999999997, 'gini = 0.0\\nsamples = 2\\nvalue = [2, 0]'),\n",
       " Text(322.40000000000003, 294.45, 'X[3] <= 0.027\\ngini = 0.285\\nsamples = 29\\nvalue = [24, 5]'),\n",
       " Text(310.0, 249.14999999999998, 'gini = 0.0\\nsamples = 2\\nvalue = [0, 2]'),\n",
       " Text(334.8, 249.14999999999998, 'X[11] <= 0.072\\ngini = 0.198\\nsamples = 27\\nvalue = [24, 3]'),\n",
       " Text(310.0, 203.84999999999997, 'X[4] <= 0.026\\ngini = 0.08\\nsamples = 24\\nvalue = [23, 1]'),\n",
       " Text(297.6, 158.55, 'gini = 0.0\\nsamples = 20\\nvalue = [20, 0]'),\n",
       " Text(322.40000000000003, 158.55, 'X[10] <= 0.611\\ngini = 0.375\\nsamples = 4\\nvalue = [3, 1]'),\n",
       " Text(310.0, 113.25, 'gini = 0.0\\nsamples = 3\\nvalue = [3, 0]'),\n",
       " Text(334.8, 113.25, 'gini = 0.0\\nsamples = 1\\nvalue = [0, 1]'),\n",
       " Text(359.6, 203.84999999999997, 'X[1] <= 0.019\\ngini = 0.444\\nsamples = 3\\nvalue = [1, 2]'),\n",
       " Text(347.2, 158.55, 'gini = 0.0\\nsamples = 1\\nvalue = [1, 0]'),\n",
       " Text(372.0, 158.55, 'gini = 0.0\\nsamples = 2\\nvalue = [0, 2]'),\n",
       " Text(421.6, 339.75, 'X[7] <= 0.019\\ngini = 0.159\\nsamples = 23\\nvalue = [21, 2]'),\n",
       " Text(409.2, 294.45, 'X[7] <= 0.019\\ngini = 0.375\\nsamples = 8\\nvalue = [6, 2]'),\n",
       " Text(396.8, 249.14999999999998, 'X[1] <= 0.017\\ngini = 0.245\\nsamples = 7\\nvalue = [6, 1]'),\n",
       " Text(384.40000000000003, 203.84999999999997, 'gini = 0.0\\nsamples = 6\\nvalue = [6, 0]'),\n",
       " Text(409.2, 203.84999999999997, 'gini = 0.0\\nsamples = 1\\nvalue = [0, 1]'),\n",
       " Text(421.6, 249.14999999999998, 'gini = 0.0\\nsamples = 1\\nvalue = [0, 1]'),\n",
       " Text(434.0, 294.45, 'gini = 0.0\\nsamples = 15\\nvalue = [15, 0]'),\n",
       " Text(496.0, 385.05, 'X[8] <= 0.123\\ngini = 0.138\\nsamples = 94\\nvalue = [7, 87]'),\n",
       " Text(471.2, 339.75, 'X[8] <= 0.077\\ngini = 0.067\\nsamples = 86\\nvalue = [3, 83]'),\n",
       " Text(458.8, 294.45, 'gini = 0.0\\nsamples = 1\\nvalue = [1, 0]'),\n",
       " Text(483.6, 294.45, 'X[3] <= 0.038\\ngini = 0.046\\nsamples = 85\\nvalue = [2, 83]'),\n",
       " Text(471.2, 249.14999999999998, 'gini = 0.0\\nsamples = 65\\nvalue = [0, 65]'),\n",
       " Text(496.0, 249.14999999999998, 'X[4] <= 0.023\\ngini = 0.18\\nsamples = 20\\nvalue = [2, 18]'),\n",
       " Text(483.6, 203.84999999999997, 'gini = 0.0\\nsamples = 1\\nvalue = [1, 0]'),\n",
       " Text(508.40000000000003, 203.84999999999997, 'X[9] <= 0.041\\ngini = 0.1\\nsamples = 19\\nvalue = [1, 18]'),\n",
       " Text(496.0, 158.55, 'X[1] <= 0.018\\ngini = 0.444\\nsamples = 3\\nvalue = [1, 2]'),\n",
       " Text(483.6, 113.25, 'gini = 0.0\\nsamples = 2\\nvalue = [0, 2]'),\n",
       " Text(508.40000000000003, 113.25, 'gini = 0.0\\nsamples = 1\\nvalue = [1, 0]'),\n",
       " Text(520.8000000000001, 158.55, 'gini = 0.0\\nsamples = 16\\nvalue = [0, 16]'),\n",
       " Text(520.8000000000001, 339.75, 'X[8] <= 0.127\\ngini = 0.5\\nsamples = 8\\nvalue = [4, 4]'),\n",
       " Text(508.40000000000003, 294.45, 'gini = 0.0\\nsamples = 3\\nvalue = [3, 0]'),\n",
       " Text(533.2, 294.45, 'X[0] <= 0.447\\ngini = 0.32\\nsamples = 5\\nvalue = [1, 4]'),\n",
       " Text(520.8000000000001, 249.14999999999998, 'gini = 0.0\\nsamples = 1\\nvalue = [1, 0]'),\n",
       " Text(545.6, 249.14999999999998, 'gini = 0.0\\nsamples = 4\\nvalue = [0, 4]'),\n",
       " Text(263.30625000000003, 475.65000000000003, 'gini = 0.0\\nsamples = 116\\nvalue = [116, 0]')]"
      ]
     },
     "execution_count": 131,
     "metadata": {},
     "output_type": "execute_result"
    },
    {
     "data": {
      "image/png": "[encoded data removed]",
      "text/plain": [
       "<Figure size 720x720 with 1 Axes>"
      ]
     },
     "metadata": {
      "needs_background": "light"
     },
     "output_type": "display_data"
    }
   ],
   "source": [
    "import matplotlib.pyplot as plt\n",
    "from sklearn import tree\n",
    "plt.figure(figsize=(10,10))\n",
    "tree.plot_tree(clf,filled=True)"
   ]
  },
  {
   "cell_type": "code",
   "execution_count": 132,
   "metadata": {},
   "outputs": [
    {
     "data": {
      "text/plain": [
       "array([0.86486486, 0.91891892, 0.90540541, 0.89041096, 0.89041096,\n",
       "       0.84931507, 0.84931507, 0.94520548, 0.94520548, 0.87671233])"
      ]
     },
     "execution_count": 132,
     "metadata": {},
     "output_type": "execute_result"
    }
   ],
   "source": [
    "scores = cross_val_score(clf, X_train, y_train, cv=10, scoring=\"accuracy\")\n",
    "scores"
   ]
  },
  {
   "cell_type": "code",
   "execution_count": 133,
   "metadata": {},
   "outputs": [],
   "source": [
    "## pruning the tree"
   ]
  },
  {
   "cell_type": "code",
   "execution_count": 134,
   "metadata": {},
   "outputs": [],
   "source": [
    "path = clf.cost_complexity_pruning_path(X_train, y_train)\n",
    "ccp_alphas, impurities = path.ccp_alphas, path.impurities"
   ]
  },
  {
   "cell_type": "code",
   "execution_count": 135,
   "metadata": {},
   "outputs": [
    {
     "data": {
      "text/plain": [
       "array([0.        , 0.00129245, 0.00130741, 0.00131721, 0.00133098,\n",
       "       0.00137186, 0.00166083, 0.00181901, 0.00181901, 0.00181901,\n",
       "       0.00218281, 0.00218281, 0.0024588 , 0.00249487, 0.00257137,\n",
       "       0.00277976, 0.0028422 , 0.00295589, 0.00327422, 0.00388055,\n",
       "       0.00389788, 0.00393995, 0.00401436, 0.00432026, 0.0046139 ,\n",
       "       0.00462952, 0.01695369, 0.02632117, 0.02864874, 0.2033164 ])"
      ]
     },
     "execution_count": 135,
     "metadata": {},
     "output_type": "execute_result"
    }
   ],
   "source": [
    "ccp_alphas"
   ]
  },
  {
   "cell_type": "code",
   "execution_count": 136,
   "metadata": {},
   "outputs": [
    {
     "name": "stdout",
     "output_type": "stream",
     "text": [
      "Number of nodes in the last tree is: 1 with ccp_alpha: 0.2033163956174928\n"
     ]
    }
   ],
   "source": [
    "clfs = []\n",
    "for ccp_alpha in ccp_alphas:\n",
    "    clf = DecisionTreeClassifier(random_state=0, ccp_alpha=ccp_alpha)\n",
    "    clf.fit(X_train, y_train)\n",
    "    clfs.append(clf)\n",
    "print(\"Number of nodes in the last tree is: {} with ccp_alpha: {}\".format(\n",
    "      clfs[-1].tree_.node_count, ccp_alphas[-1]))"
   ]
  },
  {
   "cell_type": "code",
   "execution_count": 137,
   "metadata": {},
   "outputs": [
    {
     "data": {
      "image/png": "[encoded data removed]",
      "text/plain": [
       "<Figure size 432x288 with 1 Axes>"
      ]
     },
     "metadata": {
      "needs_background": "light"
     },
     "output_type": "display_data"
    }
   ],
   "source": [
    "## Accuracy vs alpha for training and testing sets\n",
    "\n",
    "train_scores = [clf.score(X_train, y_train) for clf in clfs]\n",
    "test_scores = [clf.score(X_test, y_test) for clf in clfs]\n",
    "\n",
    "fig, ax = plt.subplots()\n",
    "ax.set_xlabel(\"alpha\")\n",
    "ax.set_ylabel(\"accuracy\")\n",
    "ax.set_title(\"Accuracy vs alpha for training and testing sets\")\n",
    "ax.plot(ccp_alphas, train_scores, marker='o', label=\"train\",\n",
    "        drawstyle=\"steps-post\")\n",
    "ax.plot(ccp_alphas, test_scores, marker='o', label=\"test\",\n",
    "        drawstyle=\"steps-post\")\n",
    "ax.legend()\n",
    "plt.show()"
   ]
  },
  {
   "cell_type": "code",
   "execution_count": 73,
   "metadata": {},
   "outputs": [
    {
     "data": {
      "text/plain": [
       "DecisionTreeClassifier(ccp_alpha=0.035, class_weight=None, criterion='gini',\n",
       "                       max_depth=None, max_features=None, max_leaf_nodes=None,\n",
       "                       min_impurity_decrease=0.0, min_impurity_split=None,\n",
       "                       min_samples_leaf=1, min_samples_split=2,\n",
       "                       min_weight_fraction_leaf=0.0, presort='deprecated',\n",
       "                       random_state=0, splitter='best')"
      ]
     },
     "execution_count": 73,
     "metadata": {},
     "output_type": "execute_result"
    }
   ],
   "source": [
    "clf = DecisionTreeClassifier(random_state=0, ccp_alpha=0.035)\n",
    "clf.fit(X_train,y_train)"
   ]
  },
  {
   "cell_type": "code",
   "execution_count": 74,
   "metadata": {},
   "outputs": [
    {
     "data": {
      "text/plain": [
       "0.9125"
      ]
     },
     "execution_count": 74,
     "metadata": {},
     "output_type": "execute_result"
    }
   ],
   "source": [
    "pred=clf.predict(X_train)\n",
    "from sklearn.metrics import accuracy_score\n",
    "accuracy_score(y_train, pred)"
   ]
  },
  {
   "cell_type": "code",
   "execution_count": 75,
   "metadata": {},
   "outputs": [
    {
     "data": {
      "text/plain": [
       "array([0.925, 0.95 , 0.875, 0.95 , 0.9  , 0.925, 0.825, 0.775, 0.9  ,\n",
       "       0.875])"
      ]
     },
     "execution_count": 75,
     "metadata": {},
     "output_type": "execute_result"
    }
   ],
   "source": [
    "scores = cross_val_score(clf, X_train, y_train, cv=10, scoring=\"accuracy\")\n",
    "scores"
   ]
  },
  {
   "cell_type": "code",
   "execution_count": 76,
   "metadata": {},
   "outputs": [
    {
     "data": {
      "text/plain": [
       "array([0.87972509, 0.93123772])"
      ]
     },
     "execution_count": 76,
     "metadata": {},
     "output_type": "execute_result"
    }
   ],
   "source": [
    "f1_score(y_train, pred, average=None)"
   ]
  },
  {
   "cell_type": "code",
   "execution_count": 77,
   "metadata": {},
   "outputs": [
    {
     "data": {
      "text/plain": [
       "<matplotlib.axes._subplots.AxesSubplot at 0x2a59050b988>"
      ]
     },
     "execution_count": 77,
     "metadata": {},
     "output_type": "execute_result"
    },
    {
     "data": {
      "image/png": "[encoded data removed]",
      "text/plain": [
       "<Figure size 432x288 with 2 Axes>"
      ]
     },
     "metadata": {
      "needs_background": "light"
     },
     "output_type": "display_data"
    }
   ],
   "source": [
    "cf_matrix = confusion_matrix(y_train, pred)\n",
    "sns.heatmap(cf_matrix, linewidths=1, annot=True, fmt='g')"
   ]
  },
  {
   "cell_type": "code",
   "execution_count": 79,
   "metadata": {},
   "outputs": [
    {
     "data": {
      "text/plain": [
       "[Text(418.5, 611.55, 'X[4] <= 14.21\\ngini = 0.475\\nsamples = 400\\nvalue = [155, 245]'),\n",
       " Text(209.25, 203.85000000000002, 'gini = 0.111\\nsamples = 136\\nvalue = [128, 8]'),\n",
       " Text(627.75, 203.85000000000002, 'gini = 0.184\\nsamples = 264\\nvalue = [27, 237]')]"
      ]
     },
     "execution_count": 79,
     "metadata": {},
     "output_type": "execute_result"
    },
    {
     "data": {
      "image/png": "[encoded data removed]",
      "text/plain": [
       "<Figure size 1080x1080 with 1 Axes>"
      ]
     },
     "metadata": {
      "needs_background": "light"
     },
     "output_type": "display_data"
    }
   ],
   "source": [
    "plt.figure(figsize=(15,15))\n",
    "tree.plot_tree(clf,filled=True)"
   ]
  },
  {
   "cell_type": "code",
   "execution_count": null,
   "metadata": {},
   "outputs": [],
   "source": [
    "## optimaze the model"
   ]
  },
  {
   "cell_type": "code",
   "execution_count": null,
   "metadata": {},
   "outputs": [],
   "source": []
  },
  {
   "cell_type": "code",
   "execution_count": null,
   "metadata": {},
   "outputs": [],
   "source": []
  },
  {
   "cell_type": "code",
   "execution_count": null,
   "metadata": {},
   "outputs": [],
   "source": []
  },
  {
   "cell_type": "code",
   "execution_count": null,
   "metadata": {},
   "outputs": [],
   "source": []
  },
  {
   "cell_type": "code",
   "execution_count": null,
   "metadata": {},
   "outputs": [],
   "source": []
  },
  {
   "cell_type": "code",
   "execution_count": 80,
   "metadata": {},
   "outputs": [],
   "source": [
    "## Logistic regression \n",
    "from sklearn.linear_model import LogisticRegression"
   ]
  },
  {
   "cell_type": "code",
   "execution_count": 81,
   "metadata": {},
   "outputs": [],
   "source": [
    "pipeline_lr=Pipeline([('scalar2',Normalizer()),\n",
    "                     ('LR',LogisticRegression(C=1, solver='liblinear'))])"
   ]
  },
  {
   "cell_type": "code",
   "execution_count": 82,
   "metadata": {},
   "outputs": [
    {
     "data": {
      "text/plain": [
       "Pipeline(memory=None,\n",
       "         steps=[('scalar2', Normalizer(copy=True, norm='l2')),\n",
       "                ('LR',\n",
       "                 LogisticRegression(C=1, class_weight=None, dual=False,\n",
       "                                    fit_intercept=True, intercept_scaling=1,\n",
       "                                    l1_ratio=None, max_iter=100,\n",
       "                                    multi_class='auto', n_jobs=None,\n",
       "                                    penalty='l2', random_state=None,\n",
       "                                    solver='liblinear', tol=0.0001, verbose=0,\n",
       "                                    warm_start=False))],\n",
       "         verbose=False)"
      ]
     },
     "execution_count": 82,
     "metadata": {},
     "output_type": "execute_result"
    }
   ],
   "source": [
    "## Fit the model\n",
    "pipeline_lr.fit(X_train,y_train)"
   ]
  },
  {
   "cell_type": "code",
   "execution_count": 83,
   "metadata": {},
   "outputs": [],
   "source": [
    "## Predictions\n",
    "y_pred = pipeline_lr.predict(X_train)"
   ]
  },
  {
   "cell_type": "code",
   "execution_count": 84,
   "metadata": {},
   "outputs": [
    {
     "name": "stdout",
     "output_type": "stream",
     "text": [
      "Accuracy: 0.83\n"
     ]
    }
   ],
   "source": [
    "print(\"Accuracy:\",metrics.accuracy_score(y_train, y_pred))"
   ]
  },
  {
   "cell_type": "code",
   "execution_count": 85,
   "metadata": {},
   "outputs": [
    {
     "data": {
      "text/plain": [
       "array([0.76223776, 0.86770428])"
      ]
     },
     "execution_count": 85,
     "metadata": {},
     "output_type": "execute_result"
    }
   ],
   "source": [
    "f1_score(y_train, y_pred, average=None)"
   ]
  },
  {
   "cell_type": "code",
   "execution_count": 86,
   "metadata": {},
   "outputs": [
    {
     "data": {
      "text/plain": [
       "<matplotlib.axes._subplots.AxesSubplot at 0x2a590ef7748>"
      ]
     },
     "execution_count": 86,
     "metadata": {},
     "output_type": "execute_result"
    },
    {
     "data": {
      "image/png": "[encoded data removed]",
      "text/plain": [
       "<Figure size 432x288 with 2 Axes>"
      ]
     },
     "metadata": {
      "needs_background": "light"
     },
     "output_type": "display_data"
    }
   ],
   "source": [
    "cf_matrix = confusion_matrix(y_train, y_pred)\n",
    "sns.heatmap(cf_matrix, linewidths=1, annot=True, fmt='g')"
   ]
  },
  {
   "cell_type": "code",
   "execution_count": 87,
   "metadata": {},
   "outputs": [],
   "source": [
    "## K-NN\n",
    "from sklearn.neighbors import KNeighborsClassifier\n",
    "K=3\n",
    "pipeline_KNN=Pipeline([('scalar4',Normalizer()),\n",
    "                     ('pca2',PCA(n_components=3)),\n",
    "                     ('KNN',KNeighborsClassifier(n_neighbors = K))])"
   ]
  },
  {
   "cell_type": "code",
   "execution_count": 88,
   "metadata": {},
   "outputs": [
    {
     "data": {
      "text/plain": [
       "Pipeline(memory=None,\n",
       "         steps=[('scalar4', Normalizer(copy=True, norm='l2')),\n",
       "                ('pca2',\n",
       "                 PCA(copy=True, iterated_power='auto', n_components=3,\n",
       "                     random_state=None, svd_solver='auto', tol=0.0,\n",
       "                     whiten=False)),\n",
       "                ('KNN',\n",
       "                 KNeighborsClassifier(algorithm='auto', leaf_size=30,\n",
       "                                      metric='minkowski', metric_params=None,\n",
       "                                      n_jobs=None, n_neighbors=3, p=2,\n",
       "                                      weights='uniform'))],\n",
       "         verbose=False)"
      ]
     },
     "execution_count": 88,
     "metadata": {},
     "output_type": "execute_result"
    }
   ],
   "source": [
    "pipeline_KNN.fit(X_train,y_train)"
   ]
  },
  {
   "cell_type": "code",
   "execution_count": 89,
   "metadata": {},
   "outputs": [],
   "source": [
    "y_pred = pipeline_KNN.predict(X_train)"
   ]
  },
  {
   "cell_type": "code",
   "execution_count": 90,
   "metadata": {},
   "outputs": [
    {
     "name": "stdout",
     "output_type": "stream",
     "text": [
      "Accuracy: 0.9275\n"
     ]
    }
   ],
   "source": [
    "print(\"Accuracy:\",metrics.accuracy_score(y_train, y_pred))"
   ]
  },
  {
   "cell_type": "code",
   "execution_count": 91,
   "metadata": {},
   "outputs": [
    {
     "data": {
      "text/plain": [
       "array([0.85 , 0.825, 0.775, 0.875, 0.825, 0.9  , 0.775, 0.775, 0.75 ,\n",
       "       0.95 ])"
      ]
     },
     "execution_count": 91,
     "metadata": {},
     "output_type": "execute_result"
    }
   ],
   "source": [
    "scores = cross_val_score(pipeline_KNN, X_train, y_train, cv=10, scoring=\"accuracy\")\n",
    "scores"
   ]
  },
  {
   "cell_type": "code",
   "execution_count": 92,
   "metadata": {},
   "outputs": [
    {
     "data": {
      "image/png": "[encoded data removed]",
      "text/plain": [
       "<Figure size 432x288 with 1 Axes>"
      ]
     },
     "metadata": {
      "needs_background": "light"
     },
     "output_type": "display_data"
    }
   ],
   "source": [
    "## The KNN model with K=2 is overfitting let's try some other K in order to make it more complicated\n",
    "## Try 15 different K\n",
    "import numpy as np\n",
    "Ks = 15\n",
    "mean_acc = np.zeros((Ks-1))\n",
    "std_acc = np.zeros((Ks-1))\n",
    "ConfustionMx = [];\n",
    "for n in range(1,Ks):\n",
    "    \n",
    "    #Train Model and Predict  \n",
    "    neigh = KNeighborsClassifier(n_neighbors = n).fit(X_train,y_train)\n",
    "    yhat=neigh.predict(X_train)\n",
    "    mean_acc[n-1] = metrics.accuracy_score(y_train, yhat)\n",
    "\n",
    "    \n",
    "    std_acc[n-1]=np.std(yhat==y_train)/np.sqrt(yhat.shape[0])\n",
    "\n",
    "mean_acc\n",
    "plt.plot(range(1,Ks),mean_acc,'g')\n",
    "plt.fill_between(range(1,Ks),mean_acc - 1 * std_acc,mean_acc + 1 * std_acc, alpha=0.10)\n",
    "plt.legend(('Accuracy ', '+/- 3xstd'))\n",
    "plt.ylabel('Accuracy ')\n",
    "plt.xlabel('Number of Nabors (K)')\n",
    "plt.tight_layout()\n",
    "plt.show()"
   ]
  },
  {
   "cell_type": "code",
   "execution_count": 93,
   "metadata": {},
   "outputs": [],
   "source": [
    "## Let's examine a model with K=7 neighbora\n",
    "K=13\n",
    "pipeline_KNN_2=Pipeline([('scalar5',Normalizer()),\n",
    "                     ('pca5',PCA(n_components=3)),\n",
    "                     ('KNN',KNeighborsClassifier(n_neighbors = K))])"
   ]
  },
  {
   "cell_type": "code",
   "execution_count": 94,
   "metadata": {},
   "outputs": [
    {
     "data": {
      "text/plain": [
       "Pipeline(memory=None,\n",
       "         steps=[('scalar5', Normalizer(copy=True, norm='l2')),\n",
       "                ('pca5',\n",
       "                 PCA(copy=True, iterated_power='auto', n_components=3,\n",
       "                     random_state=None, svd_solver='auto', tol=0.0,\n",
       "                     whiten=False)),\n",
       "                ('KNN',\n",
       "                 KNeighborsClassifier(algorithm='auto', leaf_size=30,\n",
       "                                      metric='minkowski', metric_params=None,\n",
       "                                      n_jobs=None, n_neighbors=13, p=2,\n",
       "                                      weights='uniform'))],\n",
       "         verbose=False)"
      ]
     },
     "execution_count": 94,
     "metadata": {},
     "output_type": "execute_result"
    }
   ],
   "source": [
    "pipeline_KNN_2.fit(X_train,y_train)"
   ]
  },
  {
   "cell_type": "code",
   "execution_count": 95,
   "metadata": {},
   "outputs": [],
   "source": [
    "y_pred = pipeline_KNN_2.predict(X_train)"
   ]
  },
  {
   "cell_type": "code",
   "execution_count": 96,
   "metadata": {},
   "outputs": [
    {
     "name": "stdout",
     "output_type": "stream",
     "text": [
      "Accuracy: 0.87\n"
     ]
    }
   ],
   "source": [
    "print(\"Accuracy:\",metrics.accuracy_score(y_train, y_pred))"
   ]
  },
  {
   "cell_type": "code",
   "execution_count": 97,
   "metadata": {},
   "outputs": [
    {
     "data": {
      "text/plain": [
       "array([0.9  , 0.925, 0.825, 0.825, 0.825, 0.925, 0.775, 0.725, 0.875,\n",
       "       0.875])"
      ]
     },
     "execution_count": 97,
     "metadata": {},
     "output_type": "execute_result"
    }
   ],
   "source": [
    "scores = cross_val_score(pipeline_KNN_2, X_train, y_train, cv=10, scoring=\"accuracy\")\n",
    "scores"
   ]
  },
  {
   "cell_type": "code",
   "execution_count": 98,
   "metadata": {},
   "outputs": [
    {
     "data": {
      "text/plain": [
       "array([0.82894737, 0.89516129])"
      ]
     },
     "execution_count": 98,
     "metadata": {},
     "output_type": "execute_result"
    }
   ],
   "source": [
    "f1_score(y_train, y_pred, average=None)"
   ]
  },
  {
   "cell_type": "code",
   "execution_count": 99,
   "metadata": {},
   "outputs": [
    {
     "data": {
      "text/plain": [
       "<matplotlib.axes._subplots.AxesSubplot at 0x2a5907ee1c8>"
      ]
     },
     "execution_count": 99,
     "metadata": {},
     "output_type": "execute_result"
    },
    {
     "data": {
      "image/png": "[encoded data removed]",
      "text/plain": [
       "<Figure size 432x288 with 2 Axes>"
      ]
     },
     "metadata": {
      "needs_background": "light"
     },
     "output_type": "display_data"
    }
   ],
   "source": [
    "cf_matrix = confusion_matrix(y_train, y_pred)\n",
    "sns.heatmap(cf_matrix, linewidths=1, annot=True, fmt='g')"
   ]
  },
  {
   "cell_type": "markdown",
   "metadata": {},
   "source": [
    "### Despite the results, the model that performs better is the Decision tree, let’s now try to use this model in order to predict the test set "
   ]
  },
  {
   "cell_type": "code",
   "execution_count": 100,
   "metadata": {},
   "outputs": [],
   "source": [
    "y_pred = clf.predict(X_test)"
   ]
  },
  {
   "cell_type": "code",
   "execution_count": 101,
   "metadata": {},
   "outputs": [
    {
     "name": "stdout",
     "output_type": "stream",
     "text": [
      "Accuracy: 0.93\n"
     ]
    }
   ],
   "source": [
    "## The model performs extremely well\n",
    "print(\"Accuracy:\",metrics.accuracy_score(y_test, y_pred))"
   ]
  },
  {
   "cell_type": "code",
   "execution_count": 111,
   "metadata": {},
   "outputs": [],
   "source": [
    "## I will save the model and I will try to predict the target group of the big dataset\n",
    "\n",
    "## Save the model\n",
    "import pickle\n",
    "\n",
    "with open(\"pap_smear_classification_pred.pkl\", \"wb\") as f:\n",
    "     pickle.dump(clf,f)"
   ]
  },
  {
   "cell_type": "code",
   "execution_count": 112,
   "metadata": {},
   "outputs": [],
   "source": [
    "## Load the model\n",
    "with open(\"pap_smear_classification_pred.pkl\", \"rb\") as f:\n",
    "    loaded_decision_tree = pickle.load(f)"
   ]
  },
  {
   "cell_type": "code",
   "execution_count": 113,
   "metadata": {},
   "outputs": [
    {
     "data": {
      "text/plain": [
       "(917, 22)"
      ]
     },
     "execution_count": 113,
     "metadata": {},
     "output_type": "execute_result"
    }
   ],
   "source": [
    "df = pd.read_csv(\"data_cancer_new_2.csv\")\n",
    "df.shape"
   ]
  },
  {
   "cell_type": "code",
   "execution_count": 114,
   "metadata": {},
   "outputs": [
    {
     "data": {
      "text/plain": [
       "Index(['ID', 'Kerne_A', 'Cyto_A', 'K/C', 'Kerne_Ycol', 'Cyto_Ycol',\n",
       "       'KerneShort', 'KerneLong', 'KerneElong', 'KerneRund', 'CytoShort',\n",
       "       'CytoLong', 'CytoElong', 'CytoRund', 'KernePeri', 'CytoPeri',\n",
       "       'KernePos', 'KerneMax', 'KerneMin', 'CytoMax', 'CytoMin', 'Class'],\n",
       "      dtype='object')"
      ]
     },
     "execution_count": 114,
     "metadata": {},
     "output_type": "execute_result"
    }
   ],
   "source": [
    "df.columns"
   ]
  },
  {
   "cell_type": "code",
   "execution_count": 115,
   "metadata": {},
   "outputs": [],
   "source": [
    "df = df[[\"Cyto_A\",\"CytoShort\",\"KerneShort\"\n",
    ",\"CytoLong\",\"KerneLong\",\"CytoRund\",\"K/C\",\"Kerne_Ycol\",\"CytoPeri\"\n",
    ",\"Cyto_Ycol\",\"Kerne_A\",\"KernePeri\",\"KerneMax\",\"KerneMin\",\"Class\"]]"
   ]
  },
  {
   "cell_type": "code",
   "execution_count": 116,
   "metadata": {},
   "outputs": [],
   "source": [
    "z = [1,2,3]\n",
    "def target(x):\n",
    "    if x in z:\n",
    "        return 0\n",
    "    else:\n",
    "        return 1"
   ]
  },
  {
   "cell_type": "code",
   "execution_count": 117,
   "metadata": {},
   "outputs": [],
   "source": [
    "df[\"target\"] = df[\"Class\"].apply(lambda x: target(x))"
   ]
  },
  {
   "cell_type": "code",
   "execution_count": 118,
   "metadata": {},
   "outputs": [
    {
     "data": {
      "text/plain": [
       "1    675\n",
       "0    242\n",
       "Name: target, dtype: int64"
      ]
     },
     "execution_count": 118,
     "metadata": {},
     "output_type": "execute_result"
    }
   ],
   "source": [
    "df.target.value_counts()"
   ]
  },
  {
   "cell_type": "code",
   "execution_count": 119,
   "metadata": {},
   "outputs": [
    {
     "data": {
      "text/plain": [
       "Index(['Cyto_A', 'CytoShort', 'KerneShort', 'CytoLong', 'KerneLong',\n",
       "       'CytoRund', 'K/C', 'Kerne_Ycol', 'CytoPeri', 'Cyto_Ycol', 'Kerne_A',\n",
       "       'KernePeri', 'KerneMax', 'KerneMin', 'Class', 'target'],\n",
       "      dtype='object')"
      ]
     },
     "execution_count": 119,
     "metadata": {},
     "output_type": "execute_result"
    }
   ],
   "source": [
    "df.columns"
   ]
  },
  {
   "cell_type": "code",
   "execution_count": 120,
   "metadata": {},
   "outputs": [
    {
     "name": "stdout",
     "output_type": "stream",
     "text": [
      "(917, 14)\n",
      "(917,)\n"
     ]
    }
   ],
   "source": [
    "X = df.drop(columns=[\"Class\",\"target\"])\n",
    "Y = df.target\n",
    "print(X.shape)\n",
    "print(Y.shape)"
   ]
  },
  {
   "cell_type": "code",
   "execution_count": 121,
   "metadata": {},
   "outputs": [
    {
     "name": "stdout",
     "output_type": "stream",
     "text": [
      "0.7360959651035986\n"
     ]
    }
   ],
   "source": [
    "result = loaded_decision_tree.score(X, Y)\n",
    "print(result)"
   ]
  },
  {
   "cell_type": "code",
   "execution_count": null,
   "metadata": {},
   "outputs": [],
   "source": []
  }
 ],
 "metadata": {
  "kernelspec": {
   "display_name": "Python 3",
   "language": "python",
   "name": "python3"
  },
  "language_info": {
   "codemirror_mode": {
    "name": "ipython",
    "version": 3
   },
   "file_extension": ".py",
   "mimetype": "text/x-python",
   "name": "python",
   "nbconvert_exporter": "python",
   "pygments_lexer": "ipython3",
   "version": "3.7.6"
  }
 },
 "nbformat": 4,
 "nbformat_minor": 4
}
