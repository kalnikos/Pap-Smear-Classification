{
 "cells": [
  {
   "cell_type": "code",
   "execution_count": 1,
   "metadata": {},
   "outputs": [],
   "source": [
    "import pandas as pd\n",
    "import numpy as np"
   ]
  },
  {
   "cell_type": "code",
   "execution_count": 3,
   "metadata": {},
   "outputs": [
    {
     "data": {
      "text/html": [
       "<div>\n",
       "<style scoped>\n",
       "    .dataframe tbody tr th:only-of-type {\n",
       "        vertical-align: middle;\n",
       "    }\n",
       "\n",
       "    .dataframe tbody tr th {\n",
       "        vertical-align: top;\n",
       "    }\n",
       "\n",
       "    .dataframe thead th {\n",
       "        text-align: right;\n",
       "    }\n",
       "</style>\n",
       "<table border=\"1\" class=\"dataframe\">\n",
       "  <thead>\n",
       "    <tr style=\"text-align: right;\">\n",
       "      <th></th>\n",
       "      <th>Unnamed: 0</th>\n",
       "      <th>Cyto_A</th>\n",
       "      <th>CytoShort</th>\n",
       "      <th>KerneShort</th>\n",
       "      <th>CytoLong</th>\n",
       "      <th>KerneLong</th>\n",
       "      <th>CytoRund</th>\n",
       "      <th>K/C</th>\n",
       "      <th>Kerne_Ycol</th>\n",
       "      <th>CytoPeri</th>\n",
       "      <th>Cyto_Ycol</th>\n",
       "      <th>Kerne_A</th>\n",
       "      <th>KernePeri</th>\n",
       "      <th>KerneMax</th>\n",
       "      <th>KerneMin</th>\n",
       "      <th>target</th>\n",
       "    </tr>\n",
       "  </thead>\n",
       "  <tbody>\n",
       "    <tr>\n",
       "      <th>0</th>\n",
       "      <td>0</td>\n",
       "      <td>606.96</td>\n",
       "      <td>22.12</td>\n",
       "      <td>10.90</td>\n",
       "      <td>42.11</td>\n",
       "      <td>15.03</td>\n",
       "      <td>0.4358</td>\n",
       "      <td>0.167350</td>\n",
       "      <td>0.60</td>\n",
       "      <td>226.30</td>\n",
       "      <td>0.75</td>\n",
       "      <td>121.99</td>\n",
       "      <td>61.88</td>\n",
       "      <td>53</td>\n",
       "      <td>37</td>\n",
       "      <td>0</td>\n",
       "    </tr>\n",
       "    <tr>\n",
       "      <th>1</th>\n",
       "      <td>1</td>\n",
       "      <td>440.56</td>\n",
       "      <td>18.29</td>\n",
       "      <td>8.96</td>\n",
       "      <td>35.82</td>\n",
       "      <td>13.36</td>\n",
       "      <td>0.4372</td>\n",
       "      <td>0.166774</td>\n",
       "      <td>0.52</td>\n",
       "      <td>190.69</td>\n",
       "      <td>0.75</td>\n",
       "      <td>88.18</td>\n",
       "      <td>48.49</td>\n",
       "      <td>43</td>\n",
       "      <td>24</td>\n",
       "      <td>0</td>\n",
       "    </tr>\n",
       "    <tr>\n",
       "      <th>2</th>\n",
       "      <td>2</td>\n",
       "      <td>234.47</td>\n",
       "      <td>12.82</td>\n",
       "      <td>7.20</td>\n",
       "      <td>37.63</td>\n",
       "      <td>15.44</td>\n",
       "      <td>0.2108</td>\n",
       "      <td>0.228844</td>\n",
       "      <td>0.57</td>\n",
       "      <td>156.50</td>\n",
       "      <td>0.77</td>\n",
       "      <td>69.58</td>\n",
       "      <td>63.94</td>\n",
       "      <td>34</td>\n",
       "      <td>19</td>\n",
       "      <td>0</td>\n",
       "    </tr>\n",
       "    <tr>\n",
       "      <th>3</th>\n",
       "      <td>3</td>\n",
       "      <td>366.92</td>\n",
       "      <td>15.17</td>\n",
       "      <td>6.99</td>\n",
       "      <td>37.26</td>\n",
       "      <td>12.62</td>\n",
       "      <td>0.3365</td>\n",
       "      <td>0.088941</td>\n",
       "      <td>0.54</td>\n",
       "      <td>171.47</td>\n",
       "      <td>0.76</td>\n",
       "      <td>35.82</td>\n",
       "      <td>69.66</td>\n",
       "      <td>19</td>\n",
       "      <td>11</td>\n",
       "      <td>0</td>\n",
       "    </tr>\n",
       "    <tr>\n",
       "      <th>4</th>\n",
       "      <td>4</td>\n",
       "      <td>277.87</td>\n",
       "      <td>12.57</td>\n",
       "      <td>7.19</td>\n",
       "      <td>35.48</td>\n",
       "      <td>11.53</td>\n",
       "      <td>0.2811</td>\n",
       "      <td>0.142615</td>\n",
       "      <td>0.54</td>\n",
       "      <td>147.28</td>\n",
       "      <td>0.73</td>\n",
       "      <td>46.22</td>\n",
       "      <td>65.29</td>\n",
       "      <td>20</td>\n",
       "      <td>9</td>\n",
       "      <td>0</td>\n",
       "    </tr>\n",
       "    <tr>\n",
       "      <th>...</th>\n",
       "      <td>...</td>\n",
       "      <td>...</td>\n",
       "      <td>...</td>\n",
       "      <td>...</td>\n",
       "      <td>...</td>\n",
       "      <td>...</td>\n",
       "      <td>...</td>\n",
       "      <td>...</td>\n",
       "      <td>...</td>\n",
       "      <td>...</td>\n",
       "      <td>...</td>\n",
       "      <td>...</td>\n",
       "      <td>...</td>\n",
       "      <td>...</td>\n",
       "      <td>...</td>\n",
       "      <td>...</td>\n",
       "    </tr>\n",
       "    <tr>\n",
       "      <th>495</th>\n",
       "      <td>495</td>\n",
       "      <td>201.65</td>\n",
       "      <td>16.49</td>\n",
       "      <td>11.37</td>\n",
       "      <td>39.50</td>\n",
       "      <td>21.08</td>\n",
       "      <td>0.1646</td>\n",
       "      <td>0.468825</td>\n",
       "      <td>0.61</td>\n",
       "      <td>155.62</td>\n",
       "      <td>0.88</td>\n",
       "      <td>177.98</td>\n",
       "      <td>66.47</td>\n",
       "      <td>50</td>\n",
       "      <td>36</td>\n",
       "      <td>1</td>\n",
       "    </tr>\n",
       "    <tr>\n",
       "      <th>496</th>\n",
       "      <td>496</td>\n",
       "      <td>63.56</td>\n",
       "      <td>18.24</td>\n",
       "      <td>16.56</td>\n",
       "      <td>33.07</td>\n",
       "      <td>25.80</td>\n",
       "      <td>0.0740</td>\n",
       "      <td>0.835050</td>\n",
       "      <td>0.63</td>\n",
       "      <td>114.71</td>\n",
       "      <td>0.84</td>\n",
       "      <td>321.77</td>\n",
       "      <td>81.22</td>\n",
       "      <td>86</td>\n",
       "      <td>60</td>\n",
       "      <td>1</td>\n",
       "    </tr>\n",
       "    <tr>\n",
       "      <th>497</th>\n",
       "      <td>497</td>\n",
       "      <td>220.81</td>\n",
       "      <td>17.68</td>\n",
       "      <td>9.89</td>\n",
       "      <td>39.39</td>\n",
       "      <td>23.22</td>\n",
       "      <td>0.1812</td>\n",
       "      <td>0.424044</td>\n",
       "      <td>0.53</td>\n",
       "      <td>182.46</td>\n",
       "      <td>0.76</td>\n",
       "      <td>162.57</td>\n",
       "      <td>84.71</td>\n",
       "      <td>63</td>\n",
       "      <td>50</td>\n",
       "      <td>1</td>\n",
       "    </tr>\n",
       "    <tr>\n",
       "      <th>498</th>\n",
       "      <td>498</td>\n",
       "      <td>430.36</td>\n",
       "      <td>32.93</td>\n",
       "      <td>16.86</td>\n",
       "      <td>38.95</td>\n",
       "      <td>21.71</td>\n",
       "      <td>0.3612</td>\n",
       "      <td>0.391322</td>\n",
       "      <td>0.49</td>\n",
       "      <td>232.68</td>\n",
       "      <td>0.82</td>\n",
       "      <td>276.68</td>\n",
       "      <td>74.46</td>\n",
       "      <td>76</td>\n",
       "      <td>55</td>\n",
       "      <td>1</td>\n",
       "    </tr>\n",
       "    <tr>\n",
       "      <th>499</th>\n",
       "      <td>499</td>\n",
       "      <td>227.01</td>\n",
       "      <td>22.38</td>\n",
       "      <td>12.46</td>\n",
       "      <td>31.58</td>\n",
       "      <td>16.97</td>\n",
       "      <td>0.2898</td>\n",
       "      <td>0.397036</td>\n",
       "      <td>0.52</td>\n",
       "      <td>156.57</td>\n",
       "      <td>0.76</td>\n",
       "      <td>149.48</td>\n",
       "      <td>69.24</td>\n",
       "      <td>66</td>\n",
       "      <td>41</td>\n",
       "      <td>1</td>\n",
       "    </tr>\n",
       "  </tbody>\n",
       "</table>\n",
       "<p>500 rows × 16 columns</p>\n",
       "</div>"
      ],
      "text/plain": [
       "     Unnamed: 0  Cyto_A  CytoShort  KerneShort  CytoLong  KerneLong  CytoRund  \\\n",
       "0             0  606.96      22.12       10.90     42.11      15.03    0.4358   \n",
       "1             1  440.56      18.29        8.96     35.82      13.36    0.4372   \n",
       "2             2  234.47      12.82        7.20     37.63      15.44    0.2108   \n",
       "3             3  366.92      15.17        6.99     37.26      12.62    0.3365   \n",
       "4             4  277.87      12.57        7.19     35.48      11.53    0.2811   \n",
       "..          ...     ...        ...         ...       ...        ...       ...   \n",
       "495         495  201.65      16.49       11.37     39.50      21.08    0.1646   \n",
       "496         496   63.56      18.24       16.56     33.07      25.80    0.0740   \n",
       "497         497  220.81      17.68        9.89     39.39      23.22    0.1812   \n",
       "498         498  430.36      32.93       16.86     38.95      21.71    0.3612   \n",
       "499         499  227.01      22.38       12.46     31.58      16.97    0.2898   \n",
       "\n",
       "          K/C  Kerne_Ycol  CytoPeri  Cyto_Ycol  Kerne_A  KernePeri  KerneMax  \\\n",
       "0    0.167350        0.60    226.30       0.75   121.99      61.88        53   \n",
       "1    0.166774        0.52    190.69       0.75    88.18      48.49        43   \n",
       "2    0.228844        0.57    156.50       0.77    69.58      63.94        34   \n",
       "3    0.088941        0.54    171.47       0.76    35.82      69.66        19   \n",
       "4    0.142615        0.54    147.28       0.73    46.22      65.29        20   \n",
       "..        ...         ...       ...        ...      ...        ...       ...   \n",
       "495  0.468825        0.61    155.62       0.88   177.98      66.47        50   \n",
       "496  0.835050        0.63    114.71       0.84   321.77      81.22        86   \n",
       "497  0.424044        0.53    182.46       0.76   162.57      84.71        63   \n",
       "498  0.391322        0.49    232.68       0.82   276.68      74.46        76   \n",
       "499  0.397036        0.52    156.57       0.76   149.48      69.24        66   \n",
       "\n",
       "     KerneMin  target  \n",
       "0          37       0  \n",
       "1          24       0  \n",
       "2          19       0  \n",
       "3          11       0  \n",
       "4           9       0  \n",
       "..        ...     ...  \n",
       "495        36       1  \n",
       "496        60       1  \n",
       "497        50       1  \n",
       "498        55       1  \n",
       "499        41       1  \n",
       "\n",
       "[500 rows x 16 columns]"
      ]
     },
     "execution_count": 3,
     "metadata": {},
     "output_type": "execute_result"
    }
   ],
   "source": [
    "df = pd.read_csv(\"pap_smear_old.csv\")\n",
    "df"
   ]
  },
  {
   "cell_type": "code",
   "execution_count": 4,
   "metadata": {},
   "outputs": [
    {
     "data": {
      "text/plain": [
       "(500, 16)"
      ]
     },
     "execution_count": 4,
     "metadata": {},
     "output_type": "execute_result"
    }
   ],
   "source": [
    "df.shape"
   ]
  },
  {
   "cell_type": "markdown",
   "metadata": {},
   "source": [
    "## Let's start train some models"
   ]
  },
  {
   "cell_type": "code",
   "execution_count": 5,
   "metadata": {},
   "outputs": [
    {
     "name": "stdout",
     "output_type": "stream",
     "text": [
      "(500, 15)\n",
      "(500,)\n"
     ]
    }
   ],
   "source": [
    "## SVM\n",
    "X = df.drop(columns=[\"target\"])\n",
    "Y = df.target\n",
    "print(X.shape)\n",
    "print(Y.shape)"
   ]
  },
  {
   "cell_type": "code",
   "execution_count": 6,
   "metadata": {},
   "outputs": [],
   "source": [
    "# Split dataset into training set and test set\n",
    "from sklearn.model_selection import train_test_split\n",
    "X_train, X_test, y_train, y_test = train_test_split( X, Y, test_size=0.2, random_state=4)"
   ]
  },
  {
   "cell_type": "code",
   "execution_count": 58,
   "metadata": {},
   "outputs": [],
   "source": [
    "from sklearn.preprocessing import Normalizer\n",
    "from sklearn.svm import SVC\n",
    "from sklearn.pipeline import Pipeline"
   ]
  },
  {
   "cell_type": "code",
   "execution_count": 59,
   "metadata": {},
   "outputs": [],
   "source": [
    "pipeline_svm=Pipeline([('scalar1',Normalizer()),\n",
    "                     ('SVM',SVC(kernel='linear', C=100, gamma=\"auto\"))])"
   ]
  },
  {
   "cell_type": "code",
   "execution_count": 60,
   "metadata": {},
   "outputs": [
    {
     "data": {
      "text/plain": [
       "Pipeline(memory=None,\n",
       "         steps=[('scalar1', Normalizer(copy=True, norm='l2')),\n",
       "                ('SVM',\n",
       "                 SVC(C=100, break_ties=False, cache_size=200, class_weight=None,\n",
       "                     coef0=0.0, decision_function_shape='ovr', degree=3,\n",
       "                     gamma='auto', kernel='linear', max_iter=-1,\n",
       "                     probability=False, random_state=None, shrinking=True,\n",
       "                     tol=0.001, verbose=False))],\n",
       "         verbose=False)"
      ]
     },
     "execution_count": 60,
     "metadata": {},
     "output_type": "execute_result"
    }
   ],
   "source": [
    "pipeline_svm.fit(X_train, y_train)"
   ]
  },
  {
   "cell_type": "code",
   "execution_count": 61,
   "metadata": {},
   "outputs": [],
   "source": [
    "## Prediction\n",
    "y_pred = pipeline_svm.predict(X_train)"
   ]
  },
  {
   "cell_type": "code",
   "execution_count": 62,
   "metadata": {},
   "outputs": [
    {
     "name": "stdout",
     "output_type": "stream",
     "text": [
      "Accuracy: 0.98\n"
     ]
    }
   ],
   "source": [
    "## Evaluation \n",
    "from sklearn import metrics\n",
    "\n",
    "# Model Accuracy: how often is the classifier correct?\n",
    "print(\"Accuracy:\",metrics.accuracy_score(y_train, y_pred))"
   ]
  },
  {
   "cell_type": "code",
   "execution_count": 63,
   "metadata": {},
   "outputs": [
    {
     "data": {
      "text/plain": [
       "array([0.95 , 0.975, 0.95 , 1.   , 0.975, 1.   , 0.975, 1.   , 0.95 ,\n",
       "       0.975])"
      ]
     },
     "execution_count": 63,
     "metadata": {},
     "output_type": "execute_result"
    }
   ],
   "source": [
    "from sklearn.model_selection import cross_val_score\n",
    "scores = cross_val_score(pipeline_svm, X_train, y_train, cv=10, scoring=\"accuracy\")\n",
    "scores"
   ]
  },
  {
   "cell_type": "code",
   "execution_count": 64,
   "metadata": {},
   "outputs": [
    {
     "data": {
      "text/plain": [
       "array([0.97452229, 0.98353909])"
      ]
     },
     "execution_count": 64,
     "metadata": {},
     "output_type": "execute_result"
    }
   ],
   "source": [
    "from sklearn.metrics import f1_score\n",
    "f1_score(y_train, y_pred, average=None)"
   ]
  },
  {
   "cell_type": "code",
   "execution_count": 65,
   "metadata": {},
   "outputs": [],
   "source": [
    "from sklearn.decomposition import PCA\n",
    "pipeline_svm_pca=Pipeline([('scalar1',Normalizer()),('pca1',PCA(n_components=2)),\n",
    "                     ('SVM',SVC(kernel='linear', C=100, gamma=\"auto\"))])"
   ]
  },
  {
   "cell_type": "code",
   "execution_count": 66,
   "metadata": {},
   "outputs": [
    {
     "data": {
      "text/plain": [
       "Pipeline(memory=None,\n",
       "         steps=[('scalar1', Normalizer(copy=True, norm='l2')),\n",
       "                ('pca1',\n",
       "                 PCA(copy=True, iterated_power='auto', n_components=2,\n",
       "                     random_state=None, svd_solver='auto', tol=0.0,\n",
       "                     whiten=False)),\n",
       "                ('SVM',\n",
       "                 SVC(C=100, break_ties=False, cache_size=200, class_weight=None,\n",
       "                     coef0=0.0, decision_function_shape='ovr', degree=3,\n",
       "                     gamma='auto', kernel='linear', max_iter=-1,\n",
       "                     probability=False, random_state=None, shrinking=True,\n",
       "                     tol=0.001, verbose=False))],\n",
       "         verbose=False)"
      ]
     },
     "execution_count": 66,
     "metadata": {},
     "output_type": "execute_result"
    }
   ],
   "source": [
    "pipeline_svm_pca.fit(X_train, y_train)"
   ]
  },
  {
   "cell_type": "code",
   "execution_count": 67,
   "metadata": {},
   "outputs": [],
   "source": [
    "## Prediction\n",
    "y_pred = pipeline_svm_pca.predict(X_train)"
   ]
  },
  {
   "cell_type": "code",
   "execution_count": 68,
   "metadata": {},
   "outputs": [
    {
     "name": "stdout",
     "output_type": "stream",
     "text": [
      "Accuracy: 0.9425\n"
     ]
    }
   ],
   "source": [
    "## Evaluation \n",
    "from sklearn import metrics\n",
    "\n",
    "# Model Accuracy: how often is the classifier correct?\n",
    "print(\"Accuracy:\",metrics.accuracy_score(y_train, y_pred))"
   ]
  },
  {
   "cell_type": "code",
   "execution_count": 69,
   "metadata": {},
   "outputs": [
    {
     "data": {
      "text/plain": [
       "array([0.9  , 0.925, 0.9  , 1.   , 0.975, 0.95 , 0.95 , 0.95 , 0.95 ,\n",
       "       0.9  ])"
      ]
     },
     "execution_count": 69,
     "metadata": {},
     "output_type": "execute_result"
    }
   ],
   "source": [
    "from sklearn.model_selection import cross_val_score\n",
    "scores = cross_val_score(pipeline_svm_pca, X_train, y_train, cv=10, scoring=\"accuracy\")\n",
    "scores"
   ]
  },
  {
   "cell_type": "code",
   "execution_count": 70,
   "metadata": {},
   "outputs": [
    {
     "data": {
      "text/plain": [
       "array([0.92744479, 0.95238095])"
      ]
     },
     "execution_count": 70,
     "metadata": {},
     "output_type": "execute_result"
    }
   ],
   "source": [
    "from sklearn.metrics import f1_score\n",
    "f1_score(y_train, y_pred, average=None)"
   ]
  },
  {
   "cell_type": "code",
   "execution_count": 71,
   "metadata": {},
   "outputs": [
    {
     "data": {
      "text/plain": [
       "<matplotlib.axes._subplots.AxesSubplot at 0x1e80300ff88>"
      ]
     },
     "execution_count": 71,
     "metadata": {},
     "output_type": "execute_result"
    },
    {
     "data": {
      "image/png": "[encoded data removed]",
      "text/plain": [
       "<Figure size 432x288 with 2 Axes>"
      ]
     },
     "metadata": {
      "needs_background": "light"
     },
     "output_type": "display_data"
    }
   ],
   "source": [
    "import seaborn as sns\n",
    "from sklearn.metrics import classification_report, confusion_matrix\n",
    "cf_matrix = confusion_matrix(y_train, y_pred)\n",
    "sns.heatmap(cf_matrix, linewidths=1, annot=True, fmt='g')"
   ]
  },
  {
   "cell_type": "code",
   "execution_count": 55,
   "metadata": {},
   "outputs": [],
   "source": [
    "## Optimaze the model\n",
    "from sklearn.model_selection import RandomizedSearchCV\n",
    "rs = RandomizedSearchCV(SVC(gamma='auto'), {\n",
    "        'C': [1,10,20,100],\n",
    "        'kernel': ['rbf','linear','poly']\n",
    "    }, \n",
    "    cv=5, \n",
    "    return_train_score=False, \n",
    "    n_iter=10\n",
    ") "
   ]
  },
  {
   "cell_type": "code",
   "execution_count": 56,
   "metadata": {},
   "outputs": [
    {
     "data": {
      "text/html": [
       "<div>\n",
       "<style scoped>\n",
       "    .dataframe tbody tr th:only-of-type {\n",
       "        vertical-align: middle;\n",
       "    }\n",
       "\n",
       "    .dataframe tbody tr th {\n",
       "        vertical-align: top;\n",
       "    }\n",
       "\n",
       "    .dataframe thead th {\n",
       "        text-align: right;\n",
       "    }\n",
       "</style>\n",
       "<table border=\"1\" class=\"dataframe\">\n",
       "  <thead>\n",
       "    <tr style=\"text-align: right;\">\n",
       "      <th></th>\n",
       "      <th>param_C</th>\n",
       "      <th>param_kernel</th>\n",
       "      <th>mean_test_score</th>\n",
       "    </tr>\n",
       "  </thead>\n",
       "  <tbody>\n",
       "    <tr>\n",
       "      <th>0</th>\n",
       "      <td>20</td>\n",
       "      <td>rbf</td>\n",
       "      <td>0.6125</td>\n",
       "    </tr>\n",
       "    <tr>\n",
       "      <th>1</th>\n",
       "      <td>20</td>\n",
       "      <td>poly</td>\n",
       "      <td>0.9950</td>\n",
       "    </tr>\n",
       "    <tr>\n",
       "      <th>2</th>\n",
       "      <td>100</td>\n",
       "      <td>poly</td>\n",
       "      <td>0.9950</td>\n",
       "    </tr>\n",
       "    <tr>\n",
       "      <th>3</th>\n",
       "      <td>10</td>\n",
       "      <td>linear</td>\n",
       "      <td>1.0000</td>\n",
       "    </tr>\n",
       "    <tr>\n",
       "      <th>4</th>\n",
       "      <td>10</td>\n",
       "      <td>rbf</td>\n",
       "      <td>0.6125</td>\n",
       "    </tr>\n",
       "    <tr>\n",
       "      <th>5</th>\n",
       "      <td>1</td>\n",
       "      <td>poly</td>\n",
       "      <td>0.9950</td>\n",
       "    </tr>\n",
       "    <tr>\n",
       "      <th>6</th>\n",
       "      <td>10</td>\n",
       "      <td>poly</td>\n",
       "      <td>0.9950</td>\n",
       "    </tr>\n",
       "    <tr>\n",
       "      <th>7</th>\n",
       "      <td>100</td>\n",
       "      <td>rbf</td>\n",
       "      <td>0.6125</td>\n",
       "    </tr>\n",
       "    <tr>\n",
       "      <th>8</th>\n",
       "      <td>1</td>\n",
       "      <td>rbf</td>\n",
       "      <td>0.6125</td>\n",
       "    </tr>\n",
       "    <tr>\n",
       "      <th>9</th>\n",
       "      <td>100</td>\n",
       "      <td>linear</td>\n",
       "      <td>1.0000</td>\n",
       "    </tr>\n",
       "  </tbody>\n",
       "</table>\n",
       "</div>"
      ],
      "text/plain": [
       "  param_C param_kernel  mean_test_score\n",
       "0      20          rbf           0.6125\n",
       "1      20         poly           0.9950\n",
       "2     100         poly           0.9950\n",
       "3      10       linear           1.0000\n",
       "4      10          rbf           0.6125\n",
       "5       1         poly           0.9950\n",
       "6      10         poly           0.9950\n",
       "7     100          rbf           0.6125\n",
       "8       1          rbf           0.6125\n",
       "9     100       linear           1.0000"
      ]
     },
     "execution_count": 56,
     "metadata": {},
     "output_type": "execute_result"
    }
   ],
   "source": [
    "rs.fit(X_train, y_train)\n",
    "pd.DataFrame(rs.cv_results_)[['param_C','param_kernel','mean_test_score']]"
   ]
  },
  {
   "cell_type": "code",
   "execution_count": null,
   "metadata": {},
   "outputs": [],
   "source": []
  }
 ],
 "metadata": {
  "kernelspec": {
   "display_name": "Python 3",
   "language": "python",
   "name": "python3"
  },
  "language_info": {
   "codemirror_mode": {
    "name": "ipython",
    "version": 3
   },
   "file_extension": ".py",
   "mimetype": "text/x-python",
   "name": "python",
   "nbconvert_exporter": "python",
   "pygments_lexer": "ipython3",
   "version": "3.7.6"
  }
 },
 "nbformat": 4,
 "nbformat_minor": 4
}
